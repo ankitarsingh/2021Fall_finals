{
 "cells": [
  {
   "cell_type": "markdown",
   "id": "07b04e72",
   "metadata": {},
   "source": [
    "Analysis of Depression Dataset"
   ]
  },
  {
   "cell_type": "code",
   "execution_count": 1,
   "id": "2b51ffe5",
   "metadata": {},
   "outputs": [],
   "source": [
    "import numpy as np\n",
    "import matplotlib.pyplot as plt\n",
    "import pandas as pd\n",
    "import ipywidgets\n",
    "from ipywidgets import interactive\n",
    "import seaborn as sns\n",
    "import plotly.express as px\n",
    "import plotly.graph_objects as go\n",
    "from ipywidgets import widgets, interactive"
   ]
  },
  {
   "cell_type": "markdown",
   "id": "4c6e12db",
   "metadata": {},
   "source": [
    "Reading the csvs required"
   ]
  },
  {
   "cell_type": "code",
   "execution_count": 2,
   "id": "7623c6ad",
   "metadata": {},
   "outputs": [],
   "source": [
    "def read_file(file_name):\n",
    "    return pd.read_csv(file_name)"
   ]
  },
  {
   "cell_type": "markdown",
   "id": "492583a6",
   "metadata": {},
   "source": [
    "Analysis 1: Creating a scatter plot to replicate the article's visualization"
   ]
  },
  {
   "cell_type": "code",
   "execution_count": 3,
   "id": "e3478bd4",
   "metadata": {},
   "outputs": [],
   "source": [
    "# Interactive plot\n",
    "def plot_scatter(continent):\n",
    "    df1 = read_file(\"prevalence_male_females.csv\")\n",
    "    df_continents = read_file(\"continents2.csv\")\n",
    "    df1.dropna()\n",
    "    # Renaming the columns\n",
    "    df1 = df1.rename(columns={'Prevalence - Depressive disorders - Sex: Male - Age: Age-standardized (Percent)':'Male',\n",
    "                              'Prevalence - Depressive disorders - Sex: Female - Age: Age-standardized (Percent)':'Female'})\n",
    "    # Filtering the data for one year as mentioned in the article\n",
    "    df_2017 = df1[df1[\"Year\"] == 2017]\n",
    "\n",
    "    #Merging df_2017 with df_continents for continents correspinding to country code\n",
    "    result = pd.merge(df_2017, df_continents, how=\"left\")\n",
    "    result['region'] = result['region'].replace(np.nan, 'Others')\n",
    "    if continent == 'All':\n",
    "        result.plot(kind='scatter', x='Female', y='Male', ylim=(0, 8), xlim=(0, 8),\n",
    "                    figsize=(20, 10))  # scatter plot\n",
    "    else:\n",
    "        df_temp = result[result['region'] == continent]\n",
    "        df_temp.plot(kind='scatter', x='Female', y='Male', ylim=(0, 8), xlim=(0, 8),\n",
    "                     figsize=(20, 10))  # scatter plot\n",
    "    plt.xlabel('Prevelance in Female')\n",
    "    plt.ylabel('Prevelance in Male')\n",
    "    plt.title('Prevalence in gender')\n",
    "    plt.show()"
   ]
  },
  {
   "cell_type": "code",
   "execution_count": 4,
   "id": "d0a8d706",
   "metadata": {
    "scrolled": false
   },
   "outputs": [
    {
     "data": {
      "application/vnd.jupyter.widget-view+json": {
       "model_id": "2382f7b4f09c4816a59f9f3ea27954bb",
       "version_major": 2,
       "version_minor": 0
      },
      "text/plain": [
       "interactive(children=(Dropdown(description='Continent', options=('All', 'Asia', 'Others', 'Europe', 'Africa', …"
      ]
     },
     "metadata": {},
     "output_type": "display_data"
    }
   ],
   "source": [
    "# Creating an interactive plot using 'interactive' function with all the necessary dropdowns\n",
    "plot1 = interactive(plot_scatter,\n",
    "                    continent=ipywidgets.Dropdown(\n",
    "                        value='All',\n",
    "                        options=['All', 'Asia', 'Others', 'Europe', 'Africa', 'Oceania', 'Americas'],\n",
    "                        description='Continent'\n",
    "                    ))\n",
    "plot1"
   ]
  },
  {
   "cell_type": "markdown",
   "id": "ef07c73d",
   "metadata": {},
   "source": [
    "Reading another data to cross check the above conclusion"
   ]
  },
  {
   "cell_type": "code",
   "execution_count": 6,
   "id": "efc11f76",
   "metadata": {},
   "outputs": [
    {
     "name": "stdout",
     "output_type": "stream",
     "text": [
      "sex    Female      Male\n",
      "val  0.907279  0.546125\n"
     ]
    }
   ],
   "source": [
    "df2 = pd.read_csv(\"GHD_male_female.csv\")\n",
    "df2.dropna()\n",
    "# Creates a pivot table dataframe\n",
    "table = pd.pivot_table(df2, values ='val', columns =['sex'], aggfunc = np.sum) \n",
    "print(table)"
   ]
  },
  {
   "cell_type": "markdown",
   "id": "82963843",
   "metadata": {
    "pycharm": {
     "name": "#%% md\n"
    }
   },
   "source": [
    "Filtering the data for required years"
   ]
  },
  {
   "cell_type": "code",
   "execution_count": 10,
   "id": "9917058d",
   "metadata": {
    "scrolled": true
   },
   "outputs": [
    {
     "data": {
      "text/plain": [
       "sex\n",
       "Female    0.030603\n",
       "Male      0.018774\n",
       "Name: val, dtype: float64"
      ]
     },
     "execution_count": 10,
     "metadata": {},
     "output_type": "execute_result"
    }
   ],
   "source": [
    "df2_2017 = df2[df2[\"year\"].isin([2017,2018,2019])]\n",
    "val1 = df2_2017.groupby(['sex'])['val'].mean()\n",
    "val1"
   ]
  },
  {
   "cell_type": "code",
   "execution_count": 11,
   "id": "b8bd7ebc",
   "metadata": {},
   "outputs": [
    {
     "data": {
      "text/plain": [
       "array(['Global'], dtype=object)"
      ]
     },
     "execution_count": 11,
     "metadata": {},
     "output_type": "execute_result"
    }
   ],
   "source": [
    "df2['location'].unique()"
   ]
  },
  {
   "cell_type": "markdown",
   "id": "7e0f5ace",
   "metadata": {},
   "source": [
    "Since, the only location is global, we cannot analyse country wise "
   ]
  },
  {
   "cell_type": "markdown",
   "id": "727ce2fe",
   "metadata": {
    "pycharm": {
     "name": "#%% md\n"
    }
   },
   "source": [
    "*** ANALYSIS RELATING TO SECOND HYPOTHESIS(Supriya Jayadev Hiremath)\n",
    "\n",
    "There were no standard limitation to set a particular range of age to identify as youth or adults or seniors. So using the below mentiones source: https://www.statcan.gc.ca/en/concepts/definitions/age2 as a standard. Function 'age' defined below is used to categorize age ranges present in original data set into a particular age group as follows:-\n",
    "\n",
    "1) youth:'15 to 19', '20 to 24' 2) adults: '25 to 29', '30 to 34', '35 to 39','40 to 44', '45 to 49', '50 to 54', '55 to 59', '60 to 64' 3) Seniors: '65 to 69', '70 to 74', '75 to 79', '80 to 84', '85 to 89','90 to 94', '95 plus'\n"
   ]
  },
  {
   "cell_type": "code",
   "execution_count": null,
   "outputs": [],
   "source": [
    "def age(row: pd.Series) -> str:\n",
    "    try:\n",
    "        if row['age'] in ('15 to 19', '20 to 24'):\n",
    "            category = 'youth'\n",
    "        elif row['age'] in ('25 to 29', '30 to 34', '35 to 39', '40 to 44', '45 to 49', '50 to 54', '55 to 59',\n",
    "                            '60 to 64','65 to 69'):\n",
    "            category = 'adults'\n",
    "        elif row['age'] in ('70 to 74', '75 to 79', '80 to 84', '85 to 89', '90 to 94', '95 plus'):\n",
    "            category = 'seniors'\n",
    "    except UnboundLocalError:\n",
    "        print('Data set has age group that is not required for computation, please re-check the dataset.')\n",
    "    return category"
   ],
   "metadata": {
    "collapsed": false,
    "pycharm": {
     "name": "#%%\n"
    }
   }
  },
  {
   "cell_type": "markdown",
   "source": [
    "This function takes in main_df dataframe which has data grouped by year, location, cause and age_category.\n",
    "\n",
    "It plots graphs displaying Prevalence of any mental health condition over a period of time for a set of regions/ set of age groups passed as list."
   ],
   "metadata": {
    "collapsed": false
   }
  },
  {
   "cell_type": "code",
   "execution_count": null,
   "outputs": [],
   "source": [
    "# Reference from DATAPANE site https://docs.datapane.com/examples-and-tutorials/interactive-filters#plotly-1\n",
    "def interactive_graph(maindf, list_to_display, cause_to_plot, region_or_category):\n",
    "    final_plot = go.Figure()\n",
    "\n",
    "    list_of_countries.sort()\n",
    "    list_to_display.sort()\n",
    "\n",
    "    if list_of_countries == list_to_display:\n",
    "        for every_country in list_to_display:\n",
    "            df_to_plot = maindf[(maindf['location'] == every_country) & (maindf['cause'] == cause_to_plot)\n",
    "                             & (maindf['age_categories'] == region_or_category)]\n",
    "            final_plot.add_trace(\n",
    "            go.Scatter(\n",
    "                x = df_to_plot['year'][df_to_plot['location']==every_country],\n",
    "                y = df_to_plot['val'][df_to_plot['location']==every_country],\n",
    "                name = country, visible = True\n",
    "            )\n",
    "        )\n",
    "    else:\n",
    "        for group in list_to_display:\n",
    "            df_to_plot = maindf[(maindf['location'] == region_or_category) & (maindf['cause'] == cause_to_plot)\n",
    "                             & (maindf['age_categories'] == group)]\n",
    "            final_plot.add_trace(\n",
    "            go.Scatter(\n",
    "                x = df_to_plot['year'][df_to_plot['age_categories']==group],\n",
    "                y = df_to_plot['val'][df_to_plot['age_categories']==group],\n",
    "                name = group, visible = True\n",
    "            )\n",
    "        )\n",
    "\n",
    "\n",
    "    buttons = []\n",
    "\n",
    "    for i, each_val in enumerate(list_to_display):\n",
    "        args = [False] * len(list_to_display)\n",
    "        args[i] = True\n",
    "\n",
    "        button = dict(label = each_val,\n",
    "                      method = \"restyle\",\n",
    "                      args=[{\"visible\": args}])\n",
    "\n",
    "        buttons.append(button)\n",
    "\n",
    "\n",
    "        final_plot.update_layout(\n",
    "        updatemenus=[dict(\n",
    "                        active=0,\n",
    "                        type=\"dropdown\",\n",
    "                        buttons=buttons,\n",
    "                        x = 0.0,\n",
    "                        y = 1.0,\n",
    "                        xanchor = 'right',\n",
    "                        yanchor = 'top'\n",
    "                    )],\n",
    "        title=\"PREVELANCE OF \" + cause_to_plot.upper() + \" IN \" + region_or_category.upper(),\n",
    "        title_x = 0.6,\n",
    "        xaxis_title=\"YEAR\",\n",
    "        yaxis_title=\"PREVALENCE\",\n",
    "        autosize=False,\n",
    "        width=1000,\n",
    "        height=800,\n",
    "        xaxis1_rangeslider_visible = True\n",
    ")\n",
    "\n",
    "    return final_plot"
   ],
   "metadata": {
    "collapsed": false,
    "pycharm": {
     "name": "#%%\n"
    }
   }
  },
  {
   "cell_type": "code",
   "source": [
    "def compute(df: pd.DataFrame):\n",
    "    \"\"\"\n",
    "    Creates new column in source dataframe called 'age_categories' using 'age' function and\n",
    "    multiplies val coloumn with 100 as the original dataset value got divided by 100 while downloading.\n",
    "\n",
    "    Since original data set has age groups(ex: 15 to 19), and in source dataframe each group was assigned to\n",
    "    it's corresponding category either as youth, adults or seniors.\n",
    "    So there are various values for one age category for every mental health condiiton.\n",
    "    To perform analysis, this function also calculates mean value of these rows so that every category has\n",
    "    one average value for every disorder.\n",
    "    \"\"\"\n",
    "    if 'age_categories' not in df.columns:\n",
    "        df['age_categories'] = df.apply(age, axis=1)\n",
    "        df.val *= 100\n",
    "    else:\n",
    "        print('Computation has already been performed please check or import the data file again')\n",
    "    df_grouped = df.groupby(by=['year','location','cause','age_categories']).agg({'val':'mean'}).reset_index()\n",
    "    return df_grouped\n"
   ],
   "metadata": {
    "collapsed": false,
    "pycharm": {
     "name": "#%%\n"
    }
   },
   "execution_count": null,
   "outputs": []
  },
  {
   "cell_type": "code",
   "execution_count": null,
   "outputs": [],
   "source": [
    "def max_val(df_max, country, identifier):\n",
    "\n",
    "    if identifier == 'Major depressive disorder':\n",
    "        country_df = df_max[(df_max['location'] == country) & (df_max['cause'] == identifier)]\n",
    "    elif identifier == 'Bipolar disorder':\n",
    "        country_df = df_max[(df_max['location'] == country) & (df_max['cause'] == identifier)]\n",
    "    elif identifier == 'Dysthymia':\n",
    "        country_df = df_max[(df_max['location'] == country) & (df_max['cause'] == identifier)]\n",
    "    elif identifier == 'Anxiety disorders':\n",
    "        country_df = df_max[(df_max['location'] == country) & (df_max['cause'] == identifier)]\n",
    "\n",
    "    values = country_df[country_df.val == country_df.val.max()]\n",
    "    return values"
   ],
   "metadata": {
    "collapsed": false,
    "pycharm": {
     "name": "#%%\n"
    }
   }
  },
  {
   "cell_type": "code",
   "execution_count": null,
   "outputs": [],
   "source": [
    "df_global = pd.read_csv('IHME-GBD_2019_DATA_global.csv', usecols = ['location', 'sex','age','cause','year','val'])\n",
    "df_five_region = pd.read_csv('IHME-GBD_2019_DATA_allregion_allage.csv', usecols = ['location', 'sex','age','cause','year','val'])\n",
    "df_SD_use = pd.read_csv('IHME-GBD_2019_DATA_sub_use_drug_use_all_regions.csv')\n",
    "df_socialmedia = pd.read_csv('social media usage.csv')\n",
    "df_five_region.head()"
   ],
   "metadata": {
    "collapsed": false,
    "pycharm": {
     "name": "#%%\n"
    }
   }
  },
  {
   "cell_type": "code",
   "execution_count": null,
   "outputs": [],
   "source": [
    "print('There are {} missing values in our five region dataframe'.format(df_five_region.isna().sum().sum()))\n",
    "print('There are {} missing values in our global dataframe'.format(df_global.isna().sum().sum()))"
   ],
   "metadata": {
    "collapsed": false,
    "pycharm": {
     "name": "#%%\n"
    }
   }
  },
  {
   "cell_type": "code",
   "execution_count": null,
   "outputs": [],
   "source": [
    "to_concat = [df_global, df_five_region]\n",
    "df_noagecat = pd.concat(to_concat)"
   ],
   "metadata": {
    "collapsed": false,
    "pycharm": {
     "name": "#%%\n"
    }
   }
  },
  {
   "cell_type": "code",
   "execution_count": null,
   "outputs": [],
   "source": [
    "main_df = compute(df_noagecat)\n",
    "df_substance_and_drug_use = compute(df_SD_use)\n",
    "df_five_regions = compute(df_five_region)"
   ],
   "metadata": {
    "collapsed": false,
    "pycharm": {
     "name": "#%%\n"
    }
   }
  },
  {
   "cell_type": "markdown",
   "source": [
    "Creating lists of countries, all the mental health condiitons and different age_categories"
   ],
   "metadata": {
    "collapsed": false
   }
  },
  {
   "cell_type": "code",
   "execution_count": null,
   "outputs": [],
   "source": [
    "list_of_countries = list(main_df['location'].unique())\n",
    "list_of_condition = list(main_df['cause'].unique())\n",
    "list_of_age_groups = list(main_df['age_categories'].unique())"
   ],
   "metadata": {
    "collapsed": false,
    "pycharm": {
     "name": "#%%\n"
    }
   }
  },
  {
   "cell_type": "code",
   "execution_count": null,
   "outputs": [],
   "source": [
    "df_depression = df_five_regions[(df_five_regions['cause'] == 'Major depressive disorder')]\n",
    "main_df_depression = df_depression.groupby(by=['location']).agg({'val':'mean'}).reset_index()\n",
    "\n",
    "fig_depression = px.bar(main_df_depression, x='location', y='val',title=\"PREVALENCE OF DEPRESSION IN FIVE MAIN REGIONS\",labels={\n",
    "                     \"val\":\"Prevalence(c%)\",\n",
    "                     \"location\":\"Region\",\n",
    "                     })\n",
    "fig_depression.show()\n",
    "\n",
    "\n",
    "main_df_all = df_five_regions.groupby(by=['location']).agg({'val':'mean'}).reset_index()\n",
    "\n",
    "fig_all_disorders = px.bar(main_df_all, x='location', y='val',title=\"PREVALENCE OF MENTAL HEALTH DISORDERS IN FIVE MAIN REGIONS\",labels={\n",
    "                     \"val\":\"Prevalence(c%)\",\n",
    "                     \"location\":\"Region\",\n",
    "                     })\n",
    "fig_all_disorders.show()"
   ],
   "metadata": {
    "collapsed": false,
    "pycharm": {
     "name": "#%%\n"
    }
   }
  },
  {
   "cell_type": "markdown",
   "source": [
    "Above plot shows prevalence of depression disorder in five main regions that i.e., Africa, America, Asia, Europe, Oceania"
   ],
   "metadata": {
    "collapsed": false
   }
  },
  {
   "cell_type": "code",
   "execution_count": null,
   "outputs": [],
   "source": [
    "interactive_graph(main_df, list_of_age_groups, 'Major depressive disorder', 'United States of America')"
   ],
   "metadata": {
    "collapsed": false,
    "pycharm": {
     "name": "#%%\n"
    }
   }
  },
  {
   "cell_type": "code",
   "execution_count": null,
   "outputs": [],
   "source": [
    "interactive_graph(main_df, list_of_age_groups, 'Major depressive disorder', 'Oceania')"
   ],
   "metadata": {
    "collapsed": false,
    "pycharm": {
     "name": "#%%\n"
    }
   }
  },
  {
   "cell_type": "code",
   "execution_count": null,
   "outputs": [],
   "source": [
    "interactive_graph(main_df, list_of_age_groups, 'Major depressive disorder', 'Asia')"
   ],
   "metadata": {
    "collapsed": false,
    "pycharm": {
     "name": "#%%\n"
    }
   }
  },
  {
   "cell_type": "code",
   "execution_count": null,
   "outputs": [],
   "source": [
    "interactive_graph(main_df, list_of_age_groups, 'Major depressive disorder', 'Global')"
   ],
   "metadata": {
    "collapsed": false,
    "pycharm": {
     "name": "#%%\n"
    }
   }
  },
  {
   "cell_type": "markdown",
   "source": [
    "Displaying maximum prevalence value for all kinds of mental disorders in every region for reference."
   ],
   "metadata": {
    "collapsed": false
   }
  },
  {
   "cell_type": "code",
   "execution_count": null,
   "outputs": [],
   "source": [
    "for each_country in list_of_countries:\n",
    "    for condition in list_of_condition:\n",
    "        value_df = max_val(main_df, each_country, condition)\n",
    "        country = (list(value_df['location']))\n",
    "        age_group = (list(value_df['age_categories']))\n",
    "        cause = (list(value_df['cause']))\n",
    "        max_value = (list(value_df['val']))\n",
    "        print('{} : Maximum percent of prevalance for {} condition in {} age group is {:.2f}'.format(country[0], cause[0], age_group[0], max_value[0]),'\\n')"
   ],
   "metadata": {
    "collapsed": false,
    "pycharm": {
     "name": "#%%\n"
    }
   }
  },
  {
   "cell_type": "code",
   "execution_count": null,
   "outputs": [],
   "source": [
    "interactive_graph(df_substance_and_drug_use, list_of_age_groups, 'Substance use disorders', 'United States of America')"
   ],
   "metadata": {
    "collapsed": false,
    "pycharm": {
     "name": "#%%\n"
    }
   }
  },
  {
   "cell_type": "code",
   "execution_count": null,
   "outputs": [],
   "source": [
    "interactive_graph(df_substance_and_drug_use, list_of_age_groups, 'Drug use disorders','United States of America')"
   ],
   "metadata": {
    "collapsed": false,
    "pycharm": {
     "name": "#%%\n"
    }
   }
  },
  {
   "cell_type": "code",
   "execution_count": null,
   "outputs": [],
   "source": [
    "interactive_graph(df_substance_and_drug_use, list_of_age_groups, 'Substance use disorders', 'Oceania')"
   ],
   "metadata": {
    "collapsed": false,
    "pycharm": {
     "name": "#%%\n"
    }
   }
  },
  {
   "cell_type": "code",
   "execution_count": null,
   "outputs": [],
   "source": [
    "interactive_graph(df_substance_and_drug_use, list_of_age_groups, 'Drug use disorders', 'Oceania')"
   ],
   "metadata": {
    "collapsed": false,
    "pycharm": {
     "name": "#%%\n"
    }
   }
  },
  {
   "cell_type": "code",
   "execution_count": null,
   "outputs": [],
   "source": [
    "interactive_graph(df_substance_and_drug_use, list_of_countries, 'Substance use disorders', 'youth')"
   ],
   "metadata": {
    "collapsed": false,
    "pycharm": {
     "name": "#%%\n"
    }
   }
  },
  {
   "cell_type": "code",
   "execution_count": null,
   "outputs": [],
   "source": [
    "interactive_graph(df_substance_and_drug_use, list_of_countries, 'Drug use disorders', 'youth')"
   ],
   "metadata": {
    "collapsed": false,
    "pycharm": {
     "name": "#%%\n"
    }
   }
  },
  {
   "cell_type": "code",
   "execution_count": null,
   "outputs": [],
   "source": [
    "df_socialmedia = pd.read_csv('/Users/supriyajayadevhiremath/Desktop/Final Project PR/social media usage.csv')\n",
    "df_socialmedia['date'] = pd.to_datetime(df_socialmedia['Unnamed: 0'],format='%m/%d/%y')\n",
    "df_socialmedia['year'] = pd.DatetimeIndex(df_socialmedia['date']).year\n",
    "df_social_media = df_socialmedia[['year','18-29','30-49','50-64','65+']]\n",
    "\n",
    "# Referenced from https://pandas.pydata.org/docs/reference/api/pandas.melt.html\n",
    "df_new = pd.melt(df_social_media, id_vars = \"year\",var_name=\"age_groups\",value_name=\"percent_usage\")\n",
    "df_new['percent_usage'] = df_new['percent_usage'].map(lambda x: x.rstrip('%'))\n",
    "df_new['percent_usage'] = df_new['percent_usage'].astype(str).astype(int)\n",
    "trend_plot = sns.relplot(data=df_new, x=\"year\", y=\"percent_usage\", hue=\"age_groups\",kind=\"line\", height=10, aspect = 2)\n"
   ],
   "metadata": {
    "collapsed": false,
    "pycharm": {
     "name": "#%%\n"
    }
   }
  }
 ],
 "metadata": {
  "kernelspec": {
   "display_name": "Python 3",
   "language": "python",
   "name": "python3"
  },
  "language_info": {
   "codemirror_mode": {
    "name": "ipython",
    "version": 3
   },
   "file_extension": ".py",
   "mimetype": "text/x-python",
   "name": "python",
   "nbconvert_exporter": "python",
   "pygments_lexer": "ipython3",
   "version": "3.8.8"
  }
 },
 "nbformat": 4,
 "nbformat_minor": 5
}